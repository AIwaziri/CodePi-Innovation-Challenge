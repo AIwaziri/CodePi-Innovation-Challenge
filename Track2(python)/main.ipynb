{
 "cells": [
  {
   "metadata": {},
   "cell_type": "code",
   "outputs": [],
   "execution_count": null,
   "source": [
    "import numpy as np\n",
    "import tensorflow as tf\n",
    "from tensorflow.keras import layers\n",
    "import string\n",
    "\n",
    "# Example dataset (this can be expanded with real math equations)\n",
    "data = [\n",
    "    \"2x + 3 = 5\",\n",
    "    \"3x - 4 = 11\",\n",
    "    \"5x + 2 = 17\",\n",
    "    \"x^2 + 2x - 15 = 0\",\n",
    "    \"x + 7 = 12\",\n",
    "    \"x^2 - 5x + 6 = 0\"\n",
    "]\n",
    "\n",
    "# Create a set of all unique characters in the dataset\n",
    "chars = sorted(list(set(\"\".join(data))))\n",
    "char_to_idx = {char: idx for idx, char in enumerate(chars)}\n",
    "idx_to_char = {idx: char for char, idx in char_to_idx.items()}\n",
    "\n",
    "# Prepare data: Convert the math formulas into sequences of integers\n",
    "sequence_length = 10  # Length of input sequence\n",
    "X = []\n",
    "y = []\n",
    "\n",
    "for equation in data:\n",
    "    # Prepare the sequence and the target (next character in the sequence)\n",
    "    for i in range(len(equation) - sequence_length):\n",
    "        seq_in = equation[i:i+sequence_length]\n",
    "        seq_out = equation[i+sequence_length]\n",
    "        X.append([char_to_idx[char] for char in seq_in])\n",
    "        y.append(char_to_idx[seq_out])\n",
    "\n",
    "# Reshape and normalize X and y\n",
    "X = np.array(X) / float(len(chars))  # Normalize to between 0 and 1\n",
    "y = tf.keras.utils.to_categorical(y, num_classes=len(chars))  # One-hot encode the output"
   ],
   "id": "76e1294938f57c9d"
  }
 ],
 "metadata": {
  "kernelspec": {
   "display_name": "Python 3",
   "language": "python",
   "name": "python3"
  },
  "language_info": {
   "codemirror_mode": {
    "name": "ipython",
    "version": 2
   },
   "file_extension": ".py",
   "mimetype": "text/x-python",
   "name": "python",
   "nbconvert_exporter": "python",
   "pygments_lexer": "ipython2",
   "version": "2.7.6"
  }
 },
 "nbformat": 4,
 "nbformat_minor": 5
}
